{
 "cells": [
  {
   "cell_type": "markdown",
   "id": "atlantic-liverpool",
   "metadata": {},
   "source": [
    "# PlotTrainingData\n",
    "\n",
    "This notebook creates a huge grid plot of all the covariates we're interested in modeling and analyzing."
   ]
  },
  {
   "cell_type": "code",
   "execution_count": null,
   "id": "incredible-actress",
   "metadata": {},
   "outputs": [],
   "source": [
    "import os\n",
    "import numpy as np\n",
    "import pandas as pd\n",
    "import rasterio as rio\n",
    "import matplotlib.pyplot as plt\n",
    "from tqdm.notebook import tqdm\n",
    "from sklearn import metrics"
   ]
  },
  {
   "cell_type": "code",
   "execution_count": null,
   "id": "freelance-greensboro",
   "metadata": {},
   "outputs": [],
   "source": [
    "# raw paths\n",
    "data = os.path.join('..', 'data')\n",
    "plots = os.path.join('..', 'docs', 'img')\n",
    "training = os.path.join(data, 'fia_calif_plot_level_climate_model.csv')\n",
    "\n",
    "# veg data\n",
    "v_metrics = ['CC', 'CH', 'LF', 'LC']\n",
    "stats = ['MN', 'VA', 'SK', 'KU']\n",
    "v_labels = []\n",
    "for metric in v_metrics:\n",
    "    for stat in stats:\n",
    "        v_labels.append(f'{metric}_{stat}')\n",
    "\n",
    "vegs = [\n",
    "    'gs://cfo-public/vegetation/California-Vegetation-CanopyCover-2020-Summer-00010m.tif',\n",
    "    'gs://cfo-public/vegetation/California-Vegetation-CanopyHeight-2020-Summer-00010m.tif',\n",
    "    'gs://cfo-public/vegetation/California-Vegetation-CanopyLayerCount-2020-Summer-00010m.tif',\n",
    "    'gs://cfo-public/vegetation/California-Vegetation-LadderFuelDensity-2020-Summer-00010m.tif',\n",
    "]\n",
    "veg_vrt = os.path.join(data, 'veg.vrt')\n",
    "\n",
    "# climate data\n",
    "c_labels = ['aet', 'aprpck', 'cwd', 'ppt', 'tmn', 'tmx']\n",
    "clims = [os.path.join(f'{c_label}_sierra_sierra.tif') for c_label in c_labels]\n",
    "clim_tif = os.path.join(data, 'clim-utm.tif')\n",
    "\n",
    "# read the training data\n",
    "df = pd.read_csv(training)"
   ]
  },
  {
   "cell_type": "code",
   "execution_count": null,
   "id": "statewide-responsibility",
   "metadata": {},
   "outputs": [],
   "source": [
    "# prep the data\n",
    "xvars = v_labels + c_labels\n",
    "yvars = ['BAPA', 'TPA', 'AG_biomass_gm2', 'CARBON_A']\n",
    "x = df[xvars]\n",
    "y = df[yvars]"
   ]
  },
  {
   "cell_type": "code",
   "execution_count": null,
   "id": "freelance-maryland",
   "metadata": {},
   "outputs": [],
   "source": [
    "# get the figure row size\n",
    "ncols = 4\n",
    "nrows = np.ceil((len(xvars) + len(yvars)) / float(ncols)).astype(int)\n",
    "\n",
    "# create the figure\n",
    "fig, axs = plt.subplots(nrows, ncols, figsize=(10, 16))\n",
    "\n",
    "for i, yvar in enumerate(yvars):\n",
    "    ymin = np.percentile(df[yvar], 2)\n",
    "    ymax = np.percentile(df[yvar], 98)\n",
    "    axs[0, i].hist(\n",
    "        df[yvar],\n",
    "        range=(ymin, ymax),\n",
    "        color='orange',\n",
    "        edgecolor='black',\n",
    "        rwidth=1.0,\n",
    "        align='left',\n",
    "        label=yvar,\n",
    "    )\n",
    "    axs[0, i].set_title(yvar)\n",
    "    \n",
    "for j in np.arange(nrows-1):\n",
    "    for i in np.arange(ncols):\n",
    "        df_idx = (j * ncols) + i\n",
    "        if df_idx >= len(xvars):\n",
    "            axs[j+1, i].set_visible(False)\n",
    "        else:\n",
    "            xvar = xvars[df_idx]\n",
    "            ymin = np.percentile(df[xvar], 2)\n",
    "            ymax = np.percentile(df[xvar], 98)\n",
    "            axs[j+1, i].hist(\n",
    "                df[xvar],\n",
    "                range=(ymin, ymax),\n",
    "                color='green',\n",
    "                edgecolor='black',\n",
    "                rwidth=1.0,\n",
    "                align='left',\n",
    "            )\n",
    "            axs[j+1, i].set_title(xvar)\n",
    "\n",
    "fig.tight_layout()\n",
    "\n",
    "plt.savefig(os.path.join(plots, 'CovariateHistograms.png'), dpi=200)"
   ]
  }
 ],
 "metadata": {
  "kernelspec": {
   "display_name": "Python 3",
   "language": "python",
   "name": "python3"
  },
  "language_info": {
   "codemirror_mode": {
    "name": "ipython",
    "version": 3
   },
   "file_extension": ".py",
   "mimetype": "text/x-python",
   "name": "python",
   "nbconvert_exporter": "python",
   "pygments_lexer": "ipython3",
   "version": "3.9.4"
  }
 },
 "nbformat": 4,
 "nbformat_minor": 5
}
