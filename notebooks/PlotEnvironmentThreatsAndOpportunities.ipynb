{
 "cells": [
  {
   "cell_type": "code",
   "execution_count": 1,
   "id": "ee73cf7b-d0b0-4649-b423-b4e614405dcc",
   "metadata": {},
   "outputs": [],
   "source": [
    "# packages\n",
    "import numpy as np\n",
    "import pandas as pd\n",
    "import geopandas as gpd\n",
    "import elapid as ela\n",
    "import matplotlib.pyplot as plt\n",
    "import matplotlib as mpl"
   ]
  },
  {
   "cell_type": "code",
   "execution_count": 63,
   "id": "26ddfc4f-6577-4463-8191-fcf02ccae390",
   "metadata": {},
   "outputs": [],
   "source": [
    "# paths\n",
    "base = \"/Users/christopher/data/bigtrees/\"\n",
    "plots = base + \"plots/\"\n",
    "rasters = [\n",
    "    \"SierraEcoregion-Elevation-DEM-Summer-2020-00030m.tif\",\n",
    "    \"SierraEcoregion-Disturbance-Management-2020-Summer-00030m.tif\",\n",
    "    \"SierraEcoregion-Disturbance-TimeSinceFire-2020-Summer-00030m.tif\",\n",
    "    \"SierraEcoregion-Vegetation-AbovegroundCarbonDensity-2020-Spring-00030m.tif\",\n",
    "    \"SierraEcoregion-Vegetation-CanopyHeight-2020-Spring-00030m.tif\",\n",
    "    \"SierraEcoregion-Vegetation-TallTrees-2020-Spring-00030m.tif\",\n",
    "    \"SierraEcoregion-Wildfire-ScaledHazard-2020-Summer-00030m.tif\",\n",
    "    \"ecoregion_model_current_mean.tif\",\n",
    "    \"ecoregion_model_rcp45_mean.tif\",\n",
    "    \"ecoregion_model_rcp85_mean.tif\",\n",
    "    \"ecoregion_model_current_stdv.tif\",\n",
    "    \"ecoregion_model_rcp45_stdv.tif\",\n",
    "    \"ecoregion_model_rcp85_stdv.tif\",\n",
    "]\n",
    "rasters = [base + raster for raster in rasters]\n",
    "labels = [\n",
    "    \"Elevation\",\n",
    "    \"Slope\",\n",
    "    \"Aspect\",\n",
    "    \"YearsSinceManagement\",\n",
    "    \"YearsSinceFire\",\n",
    "    \"AbovegroundCarbonDensity\",\n",
    "    \"CanopyHeight\",\n",
    "    \"IsTall\",\n",
    "    \"Hazard\",\n",
    "    \"SuitabilityCurrent\",\n",
    "    \"SuitabilityRCP45\",\n",
    "    \"SuitabilityRCP85\",\n",
    "    \"SuitabilityCurrentSTDV\",\n",
    "    \"SuitabilityRCP45STDV\",\n",
    "    \"SuitabilityRCP85STDV\",\n",
    "]\n",
    "points = base + \"point-samples-all.gpkg\""
   ]
  },
  {
   "cell_type": "markdown",
   "id": "bba81be0-af90-4b7e-9ce1-3b9c0dbfb136",
   "metadata": {},
   "source": [
    "## Reading and cleaning data"
   ]
  },
  {
   "cell_type": "code",
   "execution_count": 64,
   "id": "f0d5790b-87b6-4cde-9546-8ca5d2eec6d5",
   "metadata": {},
   "outputs": [
    {
     "data": {
      "application/vnd.jupyter.widget-view+json": {
       "model_id": "2de6af7b77324925bf35bec4994f6695",
       "version_major": 2,
       "version_minor": 0
      },
      "text/plain": [
       "Raster:   0%|                              | 0/13 [00:00<?, ?it/s]"
      ]
     },
     "metadata": {},
     "output_type": "display_data"
    },
    {
     "data": {
      "application/vnd.jupyter.widget-view+json": {
       "model_id": "",
       "version_major": 2,
       "version_minor": 0
      },
      "text/plain": [
       "Sample:   0%|                              | 0/177090 [00:00<?, ?it/s]"
      ]
     },
     "metadata": {},
     "output_type": "display_data"
    },
    {
     "data": {
      "application/vnd.jupyter.widget-view+json": {
       "model_id": "",
       "version_major": 2,
       "version_minor": 0
      },
      "text/plain": [
       "Sample:   0%|                              | 0/177090 [00:00<?, ?it/s]"
      ]
     },
     "metadata": {},
     "output_type": "display_data"
    },
    {
     "data": {
      "application/vnd.jupyter.widget-view+json": {
       "model_id": "",
       "version_major": 2,
       "version_minor": 0
      },
      "text/plain": [
       "Sample:   0%|                              | 0/177090 [00:00<?, ?it/s]"
      ]
     },
     "metadata": {},
     "output_type": "display_data"
    },
    {
     "data": {
      "application/vnd.jupyter.widget-view+json": {
       "model_id": "",
       "version_major": 2,
       "version_minor": 0
      },
      "text/plain": [
       "Sample:   0%|                              | 0/177090 [00:00<?, ?it/s]"
      ]
     },
     "metadata": {},
     "output_type": "display_data"
    },
    {
     "data": {
      "application/vnd.jupyter.widget-view+json": {
       "model_id": "",
       "version_major": 2,
       "version_minor": 0
      },
      "text/plain": [
       "Sample:   0%|                              | 0/177090 [00:00<?, ?it/s]"
      ]
     },
     "metadata": {},
     "output_type": "display_data"
    },
    {
     "data": {
      "application/vnd.jupyter.widget-view+json": {
       "model_id": "",
       "version_major": 2,
       "version_minor": 0
      },
      "text/plain": [
       "Sample:   0%|                              | 0/177090 [00:00<?, ?it/s]"
      ]
     },
     "metadata": {},
     "output_type": "display_data"
    },
    {
     "data": {
      "application/vnd.jupyter.widget-view+json": {
       "model_id": "",
       "version_major": 2,
       "version_minor": 0
      },
      "text/plain": [
       "Sample:   0%|                              | 0/177090 [00:00<?, ?it/s]"
      ]
     },
     "metadata": {},
     "output_type": "display_data"
    },
    {
     "data": {
      "application/vnd.jupyter.widget-view+json": {
       "model_id": "",
       "version_major": 2,
       "version_minor": 0
      },
      "text/plain": [
       "Sample:   0%|                              | 0/177090 [00:00<?, ?it/s]"
      ]
     },
     "metadata": {},
     "output_type": "display_data"
    },
    {
     "data": {
      "application/vnd.jupyter.widget-view+json": {
       "model_id": "",
       "version_major": 2,
       "version_minor": 0
      },
      "text/plain": [
       "Sample:   0%|                              | 0/177090 [00:00<?, ?it/s]"
      ]
     },
     "metadata": {},
     "output_type": "display_data"
    },
    {
     "data": {
      "application/vnd.jupyter.widget-view+json": {
       "model_id": "",
       "version_major": 2,
       "version_minor": 0
      },
      "text/plain": [
       "Sample:   0%|                              | 0/177090 [00:00<?, ?it/s]"
      ]
     },
     "metadata": {},
     "output_type": "display_data"
    },
    {
     "data": {
      "application/vnd.jupyter.widget-view+json": {
       "model_id": "",
       "version_major": 2,
       "version_minor": 0
      },
      "text/plain": [
       "Sample:   0%|                              | 0/177090 [00:00<?, ?it/s]"
      ]
     },
     "metadata": {},
     "output_type": "display_data"
    },
    {
     "data": {
      "application/vnd.jupyter.widget-view+json": {
       "model_id": "",
       "version_major": 2,
       "version_minor": 0
      },
      "text/plain": [
       "Sample:   0%|                              | 0/177090 [00:00<?, ?it/s]"
      ]
     },
     "metadata": {},
     "output_type": "display_data"
    },
    {
     "data": {
      "application/vnd.jupyter.widget-view+json": {
       "model_id": "",
       "version_major": 2,
       "version_minor": 0
      },
      "text/plain": [
       "Sample:   0%|                              | 0/177090 [00:00<?, ?it/s]"
      ]
     },
     "metadata": {},
     "output_type": "display_data"
    }
   ],
   "source": [
    "# data loading and point annotation\n",
    "df = gpd.read_file(points)\n",
    "df = ela.annotate(df, rasters, labels=labels)"
   ]
  },
  {
   "cell_type": "code",
   "execution_count": 67,
   "id": "d33b1989-1ca8-494f-a70d-747f2e0e6203",
   "metadata": {},
   "outputs": [],
   "source": [
    "# remove geometry column\n",
    "df = df.drop(columns=['geometry'])\n",
    "\n",
    "# remove non-vegetated pixels\n",
    "has_trees = df['CanopyHeight'] > 0\n",
    "df = df[has_trees]\n",
    "df.reset_index(drop=True)\n",
    "\n",
    "# set variables for indexing tall/non-tall pixels\n",
    "is_tall = df['IsTall'] == 1\n",
    "not_tall = df['IsTall'] == 0"
   ]
  },
  {
   "cell_type": "markdown",
   "id": "bd5a523c-fe5b-4058-ba4d-48a5b8fd7650",
   "metadata": {},
   "source": [
    "## Basic Histogram Plotting"
   ]
  },
  {
   "cell_type": "code",
   "execution_count": 80,
   "id": "ac9da08b-bafb-4407-af47-7505d1532128",
   "metadata": {},
   "outputs": [
    {
     "data": {
      "image/png": "[encoded data removed]",
      "text/plain": [
       "<Figure size 500x500 with 1 Axes>"
      ]
     },
     "metadata": {},
     "output_type": "display_data"
    }
   ],
   "source": [
    "# exploratory plotting\n",
    "var = 'YearsSinceManagement'\n",
    "units = 'years'\n",
    "labels = [\"Not Tall\", \"Tall\"]\n",
    "colors = [\"gray\", \"orange\"]\n",
    "bins = 10\n",
    "\n",
    "# plotting\n",
    "plt.figure(figsize=(4,4), dpi=125)\n",
    "plt.hist(\n",
    "    [df[not_tall][var], df[is_tall][var]],\n",
    "    density=True,\n",
    "    color=colors,\n",
    "    bins=bins,\n",
    "    label=labels,\n",
    "    log=True\n",
    ")\n",
    "\n",
    "# labels\n",
    "plt.xlabel(f\"{var} (${units}$)\")\n",
    "plt.ylabel(None)\n",
    "plt.yticks([], [])\n",
    "\n",
    "# figure\n",
    "plt.legend(fancybox=True)\n",
    "plt.tight_layout()\n",
    "plt.savefig(plots + f\"hist-istall-{var}.png\", dpi=150)"
   ]
  },
  {
   "cell_type": "markdown",
   "id": "180519d0-f8b3-41ff-961b-c1fb4a409652",
   "metadata": {},
   "source": [
    "# Carbon content\n",
    "\n",
    "Though Tall Trees occupy a small fraction of the total area (here, 10%), they store a disporportionately large amount of carbon. How much relative to the total carbon stocks are stored within areas with tall trees?"
   ]
  },
  {
   "cell_type": "code",
   "execution_count": 70,
   "id": "f226d10c-48b4-4186-b148-cf6edcdddcb2",
   "metadata": {},
   "outputs": [
    {
     "name": "stdout",
     "output_type": "stream",
     "text": [
      "Total carbon: 553,859 Mg C\n",
      "Tall tree carbon: 146,143 Mg C\n",
      "Percent carbon in tall trees: 26.4%\n"
     ]
    }
   ],
   "source": [
    "# compute the area per pixel in hectares\n",
    "area_per_pixel = (30 * 30) / (100 * 100)\n",
    "\n",
    "# average carbon densities\n",
    "acd_is_tall = df[is_tall]['AbovegroundCarbonDensity']\n",
    "acd_not_tall = df[not_tall]['AbovegroundCarbonDensity']\n",
    "acd_is_tall_mean = acd_is_tall.mean()\n",
    "acd_not_tall_mean = acd_not_tall.mean()\n",
    "\n",
    "# total area per group\n",
    "area_is_tall = len(acd_is_tall) * area_per_pixel\n",
    "area_not_tall = len(acd_not_tall) * area_per_pixel\n",
    "\n",
    "# total carbon\n",
    "carbon_is_tall = int(area_is_tall * acd_is_tall_mean)\n",
    "carbon_not_tall = int(area_not_tall * acd_not_tall_mean)\n",
    "total_carbon = carbon_is_tall + carbon_not_tall\n",
    "fraction_tall_carbon = 100 * (carbon_is_tall / total_carbon)\n",
    "\n",
    "print(f\"Total carbon: {total_carbon:,} Mg C\")\n",
    "print(f\"Tall tree carbon: {carbon_is_tall:,} Mg C\")\n",
    "print(f\"Percent carbon in tall trees: {fraction_tall_carbon:0.1f}%\")"
   ]
  },
  {
   "cell_type": "markdown",
   "id": "acca69b0-0cdd-425f-8467-5382db5e7104",
   "metadata": {},
   "source": [
    "## Hazard binning\n",
    "\n",
    "Wildfire hazard percentiles describe the relative hazard across the region, and it doesn't look like there are uniform differences in hazard scores between areas with and without tall trees. This doesn't mean that there are no regions without high hazards, however.\n",
    "\n",
    "Where are the areas with high hazard scores? What environmental differences emerge between low, moderate, and high hazard areas?"
   ]
  },
  {
   "cell_type": "code",
   "execution_count": 82,
   "id": "244df1ba-2f82-4ad1-8731-41f31c824927",
   "metadata": {},
   "outputs": [
    {
     "data": {
      "text/plain": [
       "True"
      ]
     },
     "execution_count": 82,
     "metadata": {},
     "output_type": "execute_result"
    }
   ],
   "source": [
    "# mapping\n",
    "high_hazard = df['Hazard'] > 66\n",
    "low_hazard = df['Hazard'] < 33\n",
    "mid_hazard = ~high_hazard * ~low_hazard"
   ]
  },
  {
   "cell_type": "code",
   "execution_count": 111,
   "id": "8bca62e2-6b8c-4fe9-a5f9-14afb54619bb",
   "metadata": {},
   "outputs": [
    {
     "data": {
      "image/png": "[encoded data removed]",
      "text/plain": [
       "<Figure size 500x500 with 1 Axes>"
      ]
     },
     "metadata": {},
     "output_type": "display_data"
    }
   ],
   "source": [
    "# exploratory plotting\n",
    "var = 'SuitabilityRCP85'\n",
    "units = '\\%'\n",
    "labels = [\"Low Hazard\", \"High Hazard\"]\n",
    "colors = [\"#69166e\", \"#f6d746\"]\n",
    "bins = 10\n",
    "\n",
    "# plotting\n",
    "plt.figure(figsize=(4,4), dpi=125)\n",
    "plt.hist(\n",
    "    [df[low_hazard][var], df[high_hazard][var]],\n",
    "    density=True,\n",
    "    color=colors,\n",
    "    bins=bins,\n",
    "    label=labels,\n",
    "    log=False\n",
    ")\n",
    "\n",
    "# labels\n",
    "plt.xlabel(f\"{var} (${units}$)\")\n",
    "plt.ylabel(None)\n",
    "plt.yticks([], [])\n",
    "\n",
    "# figure\n",
    "plt.legend(fancybox=True)\n",
    "plt.tight_layout()\n",
    "plt.savefig(plots + f\"hist-istall-{var}.png\", dpi=150)"
   ]
  },
  {
   "cell_type": "markdown",
   "id": "15f971d6-528a-4dbd-a0f5-fef94993e839",
   "metadata": {},
   "source": [
    "## Future bioclimatic suitability binning\n",
    "\n",
    "We have a range of future climatic suitability scores"
   ]
  },
  {
   "cell_type": "code",
   "execution_count": 160,
   "id": "a059f8b0-a33f-43a6-b2ed-2d32c41f8793",
   "metadata": {},
   "outputs": [
    {
     "name": "stdout",
     "output_type": "stream",
     "text": [
      "Negative suitability change:\n",
      "RCP45: 3.9%, RCP85: 26.2%\n",
      "Positive suitability change:\n",
      "RCP45: 69.2%, RCP85: 48.5%\n"
     ]
    }
   ],
   "source": [
    "# suitability change\n",
    "diff_rcp45 = df['SuitabilityRCP45'] - df['SuitabilityCurrent']\n",
    "diff_rcp85 = df['SuitabilityRCP85'] - df['SuitabilityCurrent']\n",
    "\n",
    "# use the sum of 3x the standard deviations to flag significant change\n",
    "margin_rcp45 = 3*df['SuitabilityRCP45STDV'] + 3*df['SuitabilityCurrentSTDV']\n",
    "margin_rcp85 = 3*df['SuitabilityRCP85STDV'] + 3*df['SuitabilityCurrentSTDV']\n",
    "\n",
    "# negative change\n",
    "#neg_rcp45 = (df['SuitabilityRCP45'] + 3*df['SuitabilityRCP45STDV']) - (df['SuitabilityCurrent'] - 3*df['SuitabilityCurrentSTDV']) < 0\n",
    "#neg_rcp85 = (df['SuitabilityRCP85'] + 3*df['SuitabilityRCP85STDV']) - (df['SuitabilityCurrent'] - 3*df['SuitabilityCurrentSTDV']) < 0\n",
    "neg_rcp45 = diff_rcp45 < -margin_rcp45\n",
    "neg_rcp85 = diff_rcp85 < -margin_rcp85\n",
    "neg_rcp45_pct = 100 * (neg_rcp45.sum() / len(neg_rcp45))\n",
    "neg_rcp85_pct = 100 * (neg_rcp85.sum() / len(neg_rcp85))\n",
    "\n",
    "print(\"Negative suitability change:\")\n",
    "print(f\"RCP45: {neg_rcp45_pct:0.1f}%, RCP85: {neg_rcp85_pct:0.1f}%\")\n",
    "\n",
    "# positive change\n",
    "#pos_rcp45 = (df['SuitabilityRCP45'] - 3*df['SuitabilityRCP45STDV']) - (df['SuitabilityCurrent'] + 3*df['SuitabilityCurrentSTDV']) > 0\n",
    "#pos_rcp85 = (df['SuitabilityRCP85'] - 3*df['SuitabilityRCP85STDV']) - (df['SuitabilityCurrent'] + 3*df['SuitabilityCurrentSTDV']) > 0\n",
    "pos_rcp45 = diff_rcp45 > margin_rcp45\n",
    "pos_rcp85 = diff_rcp85 > margin_rcp85\n",
    "pos_rcp45_pct = 100 * (pos_rcp45.sum() / len(pos_rcp45))\n",
    "pos_rcp85_pct = 100 * (pos_rcp85.sum() / len(pos_rcp85))\n",
    "\n",
    "print(\"Positive suitability change:\")\n",
    "print(f\"RCP45: {pos_rcp45_pct:0.1f}%, RCP85: {pos_rcp85_pct:0.1f}%\")\n",
    "\n",
    "# Add change data to df, add binary maps\n",
    "df['SuitabilityRCP45Change'] = diff_rcp45\n",
    "df['SuitabilityRCP85Change'] = diff_rcp85\n",
    "\n",
    "# and estimate where no change occurs\n",
    "null_rcp45 = ~neg_rcp45 * ~pos_rcp45\n",
    "null_rcp85 = ~neg_rcp85 * ~pos_rcp85"
   ]
  },
  {
   "cell_type": "code",
   "execution_count": 155,
   "id": "4ac7fb5b-9235-40fb-a2a0-c8a33a61a094",
   "metadata": {},
   "outputs": [],
   "source": [
    "# save for later\n",
    "df.to_csv('point-samples-annotated-hazard.csv')"
   ]
  },
  {
   "cell_type": "code",
   "execution_count": 168,
   "id": "f137934d-1fda-4025-bdd8-45fd873e7786",
   "metadata": {},
   "outputs": [
    {
     "data": {
      "image/png": "[encoded data removed]",
      "text/plain": [
       "<Figure size 500x500 with 1 Axes>"
      ]
     },
     "metadata": {},
     "output_type": "display_data"
    }
   ],
   "source": [
    "# exploratory plotting\n",
    "var = 'AbovegroundCarbonDensity'\n",
    "units = 'MgC \\cdot ha^{-1}'\n",
    "labels = [\"Suitability decrease\", \"Suitability increase\"]\n",
    "colors = [\"purple\", \"green\"]\n",
    "bins = 10\n",
    "\n",
    "# plotting\n",
    "plt.figure(figsize=(4,4), dpi=125)\n",
    "plt.hist(\n",
    "    [df[neg_rcp85][var], df[pos_rcp85][var]],\n",
    "    density=True,\n",
    "    color=colors,\n",
    "    bins=bins,\n",
    "    label=labels,\n",
    "    log=False\n",
    ")\n",
    "\n",
    "# labels\n",
    "plt.xlabel(f\"{var} (${units}$)\")\n",
    "plt.ylabel(None)\n",
    "plt.yticks([], [])\n",
    "\n",
    "# figure\n",
    "plt.legend(fancybox=True)\n",
    "plt.tight_layout()\n",
    "plt.savefig(plots + f\"hist-change_rcp85-{var}.png\", dpi=150)"
   ]
  }
 ],
 "metadata": {
  "kernelspec": {
   "display_name": "Python 3 (ipykernel)",
   "language": "python",
   "name": "python3"
  },
  "language_info": {
   "codemirror_mode": {
    "name": "ipython",
    "version": 3
   },
   "file_extension": ".py",
   "mimetype": "text/x-python",
   "name": "python",
   "nbconvert_exporter": "python",
   "pygments_lexer": "ipython3",
   "version": "3.11.10"
  }
 },
 "nbformat": 4,
 "nbformat_minor": 5
}
