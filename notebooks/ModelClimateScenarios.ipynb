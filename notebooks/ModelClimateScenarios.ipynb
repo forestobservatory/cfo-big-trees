{
 "cells": [
  {
   "cell_type": "markdown",
   "id": "0278ff0b",
   "metadata": {},
   "source": [
    "# ModelClimateScenarios\n",
    "\n",
    "We want to understand the potential climatic envelopes for where big trees may occur in the Sierra Nevada ecoregion under future climatic conditions, identifying climatically-stable regions that might become priority conservation areas.\n",
    "\n",
    "To do this, we'll use recent historic climate data to construct habitat suitability models with presence-background statistical methods (using `elapid`, a python implementation of Maxent). The inputs will be:\n",
    "\n",
    "- high resolution tree height data, which map the location of trees (veg >= 5m tall) and big trees (veg >=the 95th percentile of height values)\n",
    "- climate normals from recent/current epochs (1990-2005, 2006-2025) for model training, and two RCP scenarios for conditions in 2026-2045 (RCP 4.5, 8.5)\n",
    "- maps of vegetation type to qualify the definition of what constitutes a \"big\" tree in different communities\n",
    "- disturbance maps—management and wildfire disturbances—to adjust for background sampling bias\n",
    "    - big trees are less likely to occur in areas that were recently harvested, for example, but that doesn't mean those areas aren't climatically suitable for big trees.\n",
    "\n",
    "We'll do this in a few steps:\n",
    "\n",
    "1. generate a large uniform point sample across the ecoregion & extract raster values from each point location\n",
    "1. quantify sample bias based on time since disturbance & sub-sample using the bias map as our probability distribution\n",
    "1. split the data into presence (big trees) and background (all trees) data and train models with 5-fold cross validation to quantify uncertainty\n",
    "1. use the 5-fold models as an ensemble to apply predictions across each climate epoch\n",
    "\n",
    "Steps 3 & 4 will be done twice: on an ecoregion-basis and on a community type-basis."
   ]
  },
  {
   "cell_type": "markdown",
   "id": "463d1b00",
   "metadata": {},
   "source": [
    "## 0.0 Imports, paths, parameters"
   ]
  },
  {
   "cell_type": "code",
   "execution_count": 1,
   "id": "534aa2b9",
   "metadata": {},
   "outputs": [],
   "source": [
    "# imports\n",
    "from os.path import join\n",
    "import numpy as np\n",
    "import pandas as pd\n",
    "import rasterio as rio\n",
    "import geopandas as gpd\n",
    "import elapid as ela\n",
    "from sklearn import metrics, model_selection\n",
    "import artlo\n",
    "from artlo import plt"
   ]
  },
  {
   "cell_type": "code",
   "execution_count": 100,
   "id": "9f5f8cfe",
   "metadata": {},
   "outputs": [],
   "source": [
    "# paths\n",
    "data = '/home/cba/src/cfo-big-trees/data'\n",
    "raster = join(data, 'raster')\n",
    "vector = join(data, 'vector')\n",
    "models = join(data, 'models')\n",
    "plots = join(data, 'plots')\n",
    "mask = join(raster, 'SierraEcoregion-Data-Mask-2020-Summer-00010m.tif')\n",
    "sierra = join(vector, \"sierra-ecoregion.gpkg\")\n",
    "canopyHeight = join(raster, \"SierraEcoregion-Vegetation-CanopyHeight-2020-Summer-00010m.tif\")\n",
    "vegClasses = join(raster, \"SierraEcoregion-Vegetation-Classes-2020-Summer-00030m-cog.tif\")\n",
    "disturbanceMgmt = join(raster, 'SierraEcoregion-Disturbance-Management-2020-Summer-00030m.tif')\n",
    "disturbanceFire = join(raster, 'SierraEcoregion-Disturbance-TimeSinceFire-2020-Summer-00030m.tif')\n",
    "climateVars = ['humid', 'ppt', 'rad', 'tmax', 'tmin']\n",
    "climate1990 = [join(raster, 'climate_normals_utm', 'historical_1990_2005', f\"{var}.tif\") for var in climateVars]\n",
    "climate2006 = [join(raster, 'climate_normals_utm', 'rcp45_2006_2025', f\"{var}.tif\") for var in climateVars]\n",
    "climatercp45 = [join(raster, 'climate_normals_utm', 'rcp45_2026_2045', f\"{var}.tif\") for var in climateVars]\n",
    "climatercp85 = [join(raster, 'climate_normals_utm', 'rcp85_2026_2045', f\"{var}.tif\") for var in climateVars]"
   ]
  },
  {
   "cell_type": "code",
   "execution_count": 73,
   "id": "822e5625",
   "metadata": {},
   "outputs": [],
   "source": [
    "# parameters\n",
    "n_total_samples = 1_000_000\n",
    "n_sub_samples = 300_000 # with ~60% tree cover, we expect ~180,000 tree samples, and ~9000 big trees (95%ile)\n",
    "n_folds = 5\n",
    "tree_thresh = 5 # UN FAO definition for a tree\n",
    "big_thresh = 30 # 95th precentile based on prior analysis\n",
    "artlo.plot.set_style('salo-light')"
   ]
  },
  {
   "cell_type": "markdown",
   "id": "5ab3f26a",
   "metadata": {},
   "source": [
    "## 1.0 Sample generation and raster value extraction"
   ]
  },
  {
   "cell_type": "code",
   "execution_count": 4,
   "id": "adfc4d2e",
   "metadata": {},
   "outputs": [],
   "source": [
    "# sample generation\n",
    "reload = True\n",
    "points_path = join(models, 'all_points.gpkg')\n",
    "\n",
    "if reload:\n",
    "    all_points = gpd.read_file(points_path)\n",
    "    \n",
    "else:\n",
    "    all_points = ela.sample_vector(sierra, n_total_samples)\n",
    "    gpd.GeoDataFrame(geometry=all_points, crs=all_points.crs).to_file(points_path, driver='GPKG')"
   ]
  },
  {
   "cell_type": "code",
   "execution_count": null,
   "id": "10344b6d",
   "metadata": {},
   "outputs": [],
   "source": [
    "# raster value extraction\n",
    "reload = False\n",
    "annotated_path = join(models, 'all_annotated.gpkg')\n",
    "\n",
    "if reload:\n",
    "    annotated = gpd.read_file(annotated_path)\n",
    "\n",
    "else:\n",
    "    # split the points into two sets of samples and get half the climate data from historic, half from current\n",
    "    split = n_total_samples // 2\n",
    "    all_points_1 = all_points[:split]\n",
    "    all_points_2 = all_points[split:]\n",
    "    rasters_1 = [canopyHeight, vegClasses, disturbanceMgmt, disturbanceFire, *climate1990]\n",
    "    rasters_2 = [canopyHeight, vegClasses, disturbanceMgmt, disturbanceFire, *climate2006]\n",
    "    labels = [\"canopyHeight\", \"vegClass\", \"distMgmt\", \"distFire\", *climateVars]\n",
    "    annotated_1 = ela.annotate(all_points_1, rasters_1, labels=labels)\n",
    "    annotated_2 = ela.annotate(all_points_2, rasters_2, labels=labels)\n",
    "    annotated = gpd.GeoDataFrame(pd.concat([annotated_1, annotated_2], ignore_index=True))\n",
    "\n",
    "    # handle invalid data\n",
    "    valid_height = annotated['canopyHeight'] != -9999\n",
    "    valid_class = annotated[\"vegClass\"] != 255\n",
    "    valid_mgmt = annotated[\"distMgmt\"] != 255\n",
    "    valid_fire = annotated['distFire'] != 255\n",
    "    valid = valid_height * valid_class * valid_mgmt * valid_fire\n",
    "    annotated = annotated[valid].reset_index(drop=True)\n",
    "\n",
    "    # save it\n",
    "    annotated.to_file(annotated_path, driver='GPKG')"
   ]
  },
  {
   "cell_type": "code",
   "execution_count": 27,
   "id": "3c422899",
   "metadata": {},
   "outputs": [],
   "source": [
    "# FOR HANDLING WEIRD INVALID DATA ON ONE RUN\n",
    "anno2_geo = annotated_2[split:]['geometry'].reset_index(drop=True)\n",
    "anno2 = annotated_2[:split]\n",
    "anno2['geometry'] = anno2_geo\n",
    "annotated = gpd.GeoDataFrame(pd.concat([annotated_1, anno2], ignore_index=True)).reset_index(drop=True)\n",
    "annotated"
   ]
  },
  {
   "cell_type": "markdown",
   "id": "64dfe706",
   "metadata": {},
   "source": [
    "## 2.0 Quantifying sample bias"
   ]
  },
  {
   "cell_type": "code",
   "execution_count": 46,
   "id": "3843ac0c",
   "metadata": {},
   "outputs": [
    {
     "name": "stdout",
     "output_type": "stream",
     "text": [
      "Bias model fitting\n",
      "Bias AUC score: 0.987\n"
     ]
    }
   ],
   "source": [
    "reload = False\n",
    "sampled_path = join(models, 'sampled.gpkg')\n",
    "bias_model_path = join(models, \"bias_model.ela\")\n",
    "\n",
    "if reload:\n",
    "    bias_model = ela.load_object(bias_model_path)\n",
    "    sampled = gpd.read_file(sampled_path)\n",
    "\n",
    "else:\n",
    "    # determine sample probability by sampling points at the disturbance frequency where big trees occur\n",
    "    is_tree = annotated[\"canopyHeight\"] >= tree_thresh\n",
    "    \n",
    "    data = annotated[[\"canopyHeight\", \"distMgmt\", \"distFire\"]][is_tree]\n",
    "    data[\"presence\"] = 0\n",
    "    data[data[\"canopyHeight\"] >= big_thresh] = 1\n",
    "        \n",
    "    # format the x/y data\n",
    "    x = data.drop(columns=[\"canopyHeight\", \"presence\"]).astype('float32').to_numpy()\n",
    "    y = data.drop(columns=[\"canopyHeight\", \"distMgmt\", \"distFire\"]).astype('uint8').to_numpy().flatten()\n",
    "    \n",
    "    print(\"Bias model fitting\")\n",
    "    bias_model = ela.MaxentModel()\n",
    "    bias_model.fit(x, y)\n",
    "    bias_pred = bias_model.predict(x)\n",
    "    print(f\"Bias AUC score: {metrics.roc_auc_score(y, bias_pred):0.3f}\")\n",
    "    ela.save_object(bias_model, bias_model_path)\n",
    "\n",
    "    pred_scaled = (bias_pred - bias_pred.min()) / (bias_pred - bias_pred.min()).sum()\n",
    "    samples = np.random.choice(is_tree.sum(), size=n_sub_samples, p=pred_scaled)\n",
    "    sampled = annotated[is_tree].iloc[samples]\n",
    "    sampled.to_file(sampled_path, driver='GPKG')"
   ]
  },
  {
   "cell_type": "code",
   "execution_count": 47,
   "id": "e72a411c",
   "metadata": {},
   "outputs": [
    {
     "data": {
      "application/vnd.jupyter.widget-view+json": {
       "model_id": "d5c77aac805a46a78899221c31580d5c",
       "version_major": 2,
       "version_minor": 0
      },
      "text/plain": [
       "Window:   0%|                    | 0/3726 [00:00<?, ?it/s]"
      ]
     },
     "metadata": {},
     "output_type": "display_data"
    }
   ],
   "source": [
    "# apply the model to visualize\n",
    "rerun = True\n",
    "bias_raster = join(models, \"bias_raster.tif\")\n",
    "if rerun:\n",
    "    ela.apply_model_to_rasters(bias_model, [disturbanceMgmt, disturbanceFire], bias_raster)"
   ]
  },
  {
   "cell_type": "markdown",
   "id": "b5e9a1b3",
   "metadata": {},
   "source": [
    "## 3.0 Model training"
   ]
  },
  {
   "cell_type": "markdown",
   "id": "bd1ea125",
   "metadata": {},
   "source": [
    "### 3.1 Using an ecoregion-wide big tree threshold"
   ]
  },
  {
   "cell_type": "code",
   "execution_count": 50,
   "id": "75166798",
   "metadata": {},
   "outputs": [
    {
     "name": "stderr",
     "output_type": "stream",
     "text": [
      "/tmp/ipykernel_2565/2385457607.py:4: SettingWithCopyWarning: \n",
      "A value is trying to be set on a copy of a slice from a DataFrame\n",
      "\n",
      "See the caveats in the documentation: https://pandas.pydata.org/pandas-docs/stable/user_guide/indexing.html#returning-a-view-versus-a-copy\n",
      "  data[\"presence\"][data[\"canopyHeight\"] > big_thresh] = 1\n"
     ]
    },
    {
     "name": "stdout",
     "output_type": "stream",
     "text": [
      "Fold 0 AUC: 0.821\n",
      "Fold 1 AUC: 0.816\n",
      "Fold 2 AUC: 0.816\n",
      "Fold 3 AUC: 0.822\n",
      "Fold 4 AUC: 0.821\n"
     ]
    }
   ],
   "source": [
    "# data prep\n",
    "data = sampled.drop(columns=\"geometry\")\n",
    "data[\"presence\"] = 0\n",
    "data[\"presence\"][data[\"canopyHeight\"] > big_thresh] = 1\n",
    "x = data[climateVars].to_numpy()\n",
    "y = data['presence'].astype('uint8').to_numpy().flatten()\n",
    "\n",
    "# k-fold stratified sampling\n",
    "ecoregion_models = []\n",
    "kfold = model_selection.StratifiedKFold(n_folds)\n",
    "for fold, (train, test) in enumerate(kfold.split(x, y)):\n",
    "    xtrain, xtest = x[train], x[test]\n",
    "    ytrain, ytest = y[train], y[test]\n",
    "    model = ela.MaxentModel()\n",
    "    model.fit(xtrain, ytrain)\n",
    "    ypred = model.predict(xtest)\n",
    "    auc = metrics.roc_auc_score(ytest, ypred)\n",
    "    print(f\"Fold {fold} AUC: {auc:0.3f}\")\n",
    "    ecoregion_models.append(model)\n",
    "    model_path = join(models, f\"ecoregion_model_{fold}.ela\")\n",
    "    ela.save_object(model, model_path)"
   ]
  },
  {
   "cell_type": "markdown",
   "id": "d60b8128",
   "metadata": {},
   "source": [
    "## 4.0 Model ensembles"
   ]
  },
  {
   "cell_type": "markdown",
   "id": "11f3ff95",
   "metadata": {},
   "source": [
    "### 4.1 Using ecoregion-wide models"
   ]
  },
  {
   "cell_type": "code",
   "execution_count": null,
   "id": "def0503d",
   "metadata": {},
   "outputs": [],
   "source": [
    "# apply the model predictions\n",
    "rerun = True\n",
    "\n",
    "current_mean_path = join(models, f\"ecoregion_model_current_mean.tif\")\n",
    "rcp45_mean_path = join(models, f\"ecoregion_model_rcp45_mean.tif\")\n",
    "rcp85_mean_path = join(models, f\"ecoregion_model_rcp85_mean.tif\")\n",
    "current_stdv_path = join(models, f\"ecoregion_model_current_stdv.tif\")\n",
    "rcp45_stdv_path = join(models, f\"ecoregion_model_rcp45_stdv.tif\")\n",
    "rcp85_stdv_path = join(models, f\"ecoregion_model_rcp85_stdv.tif\")\n",
    "rcp45_change_path = join(models, \"ecoregion_model_rcp45_change.tif\")\n",
    "rcp85_change_path = join(models, \"ecoregion_model_rcp85_change.tif\")\n",
    "\n",
    "if rerun:\n",
    "    current_preds = []\n",
    "    rcp45_preds = []\n",
    "    rcp85_preds = []\n",
    "\n",
    "    for fold, model in enumerate(ecoregion_models):\n",
    "\n",
    "        current_raster = join(models, f\"ecoregion_model_current_{fold}.tif\")\n",
    "        rcp45_raster = join(models, f\"ecoregion_model_rcp45_{fold}.tif\")\n",
    "        rcp85_raster = join(models, f\"ecoregion_model_rcp85_{fold}.tif\")\n",
    "\n",
    "        ela.apply_model_to_rasters(model, climate2006, current_raster)\n",
    "        ela.apply_model_to_rasters(model, climatercp45, rcp45_raster)\n",
    "        ela.apply_model_to_rasters(model, climatercp85, rcp85_raster)\n",
    "        \n",
    "        # read the data into memory\n",
    "        with rio.open(current_raster, 'r') as c, rio.open(rcp45_raster, 'r') as r45, rio.open(rcp85_raster, 'r') as r85:\n",
    "            current_preds.append(c.read(1, masked=True))\n",
    "            rcp45_preds.append(r45.read(1, masked=True))\n",
    "            rcp85_preds.append(r85.read(1, masked=True))\n",
    "            profile = c.profile.copy()\n",
    "        \n",
    "    # ensemble the results\n",
    "    current_stack = np.stack(current_preds)\n",
    "    rcp45_stack = np.stack(rcp45_preds)\n",
    "    rcp85_stack = np.stack(rcp85_preds)\n",
    "    \n",
    "    # first the mean\n",
    "    current_mean = current_stack.mean(axis=0)\n",
    "    rcp45_mean = rcp45_stack.mean(axis=0)\n",
    "    rcp85_mean = rcp85_stack.mean(axis=0)\n",
    "    \n",
    "    with rio.open(current_mean_path, 'w', **profile) as c, rio.open(rcp45_mean_path, 'w', **profile) as r45, rio.open(rcp85_mean_path, 'w', **profile) as r85:\n",
    "        c.write(current_mean, 1)\n",
    "        r45.write(rcp45_mean, 1)\n",
    "        r85.write(rcp85_mean, 1)\n",
    "    \n",
    "    # then the standard deviation\n",
    "    current_stdv = current_stack.std(axis=0)\n",
    "    rcp45_stdv = rcp45_stack.std(axis=0)\n",
    "    rcp85_stdv = rcp85_stack.std(axis=0)\n",
    "\n",
    "    with rio.open(current_stdv_path, 'w', **profile) as c, rio.open(rcp45_stdv_path, 'w', **profile) as r45, rio.open(rcp85_stdv_path, 'w', **profile) as r85:\n",
    "        c.write(current_stdv, 1)\n",
    "        r45.write(rcp45_stdv, 1)\n",
    "        r85.write(rcp85_stdv, 1)\n",
    "        \n",
    "    # then compute the change between climate scenarios\n",
    "    rcp45_change = rcp45_mean - current_mean\n",
    "    rcp85_change = rcp85_mean - current_mean\n",
    "        \n",
    "    with rio.open(rcp45_change_path, 'w', **profile) as r45, rio.open(rcp85_change_path, 'w', **profile) as r85:\n",
    "        r45.write(rcp45_change, 1)\n",
    "        r85.write(rcp85_change, 1)"
   ]
  },
  {
   "cell_type": "markdown",
   "id": "594bec67",
   "metadata": {},
   "source": [
    "# Plotting and visualization"
   ]
  },
  {
   "cell_type": "markdown",
   "id": "39cc722c",
   "metadata": {},
   "source": [
    "### Shifts in big tree suitability"
   ]
  },
  {
   "cell_type": "code",
   "execution_count": 101,
   "id": "b1d89363",
   "metadata": {},
   "outputs": [
    {
     "data": {
      "image/png": "[encoded data removed]",
      "text/plain": [
       "<Figure size 625x625 with 1 Axes>"
      ]
     },
     "metadata": {},
     "output_type": "display_data"
    }
   ],
   "source": [
    "ecoregion = gpd.read_file(sierra)\n",
    "poly = ecoregion.iloc[0].geometry\n",
    "with rio.open(rcp45_change_path, 'r') as r45, rio.open(rcp85_change_path, 'r',) as r85:\n",
    "    c45 = ela.geo.read_raster_from_polygon(r45, poly)\n",
    "    c85 = ela.geo.read_raster_from_polygon(r85, poly)\n",
    "\n",
    "rng = (-0.2, 0.2)\n",
    "bins = 20\n",
    "\n",
    "plt.hist(c45[c45.mask == False], bins=bins, range=rng, label='RCP45', alpha=0.6)\n",
    "plt.hist(c85[c85.mask == False], bins=bins, range=rng, label='RCP85', alpha=0.6)\n",
    "ylim = plt.ylim()\n",
    "plt.plot((0,0), ylim, linestyle='--', linewidth=2, color='#222222', alpha=0.5)\n",
    "\n",
    "# convert pixel counts to km2\n",
    "area_scaler = 4 # 2x2 km pixels\n",
    "pos, labels = plt.yticks()\n",
    "km2 = pos * area_scaler\n",
    "plt.yticks(pos, km2.astype(np.int16))\n",
    "\n",
    "plt.xlabel(\"Change in suitability from climate baseline (%)\")\n",
    "plt.ylabel(\"Area ($km^2$)\")\n",
    "plt.title(f\"Shifts in Climatic Suitability for Big Trees\\ndefined as any tree >={big_thresh}m tall\")\n",
    "plt.legend()\n",
    "plt.tight_layout()\n",
    "\n",
    "outfile = join(plots, \"climate-suitability-change-ecoregion.png\")\n",
    "plt.savefig(outfile, dpi=300)"
   ]
  },
  {
   "cell_type": "markdown",
   "id": "b17c6728",
   "metadata": {},
   "source": [
    "### Plotting frequency distributions for climate variables"
   ]
  },
  {
   "cell_type": "code",
   "execution_count": 103,
   "id": "3480c007",
   "metadata": {},
   "outputs": [],
   "source": [
    "is_big = (sampled['canopyHeight'] >= big_thresh).to_numpy()\n",
    "humid = sampled['humid'].to_numpy() / 10000\n",
    "ppt = sampled['ppt'].to_numpy()\n",
    "rad = sampled['rad'].to_numpy()\n",
    "tmin = sampled['tmin'].to_numpy() - 273\n",
    "tmax = sampled['tmax'].to_numpy() - 273\n",
    "\n",
    "cvars = [humid, ppt, rad, tmin, tmax]\n",
    "labels = ['Humidity', 'Precipitation', 'SolarRadiation', 'MinTemperature', 'MaxTemperature']\n",
    "units = ['$kg/kg$', '$mm$', '$w \\cdot m^2$', '$^oC$', '$^oC$']\n",
    "\n",
    "for cvar, label, unit in zip(cvars, labels, units):\n",
    "    xmin = np.percentile(cvar, 1)\n",
    "    xmax = np.percentile(cvar, 99)\n",
    "    bins = 12\n",
    "\n",
    "    plt.hist(cvar[~is_big], bins=bins, range=(xmin, xmax), label=\"All trees\", color='orange', alpha=0.6, density=True)\n",
    "    plt.hist(cvar[is_big], bins=bins, range=(xmin, xmax), label=\"Big trees\", color='green', alpha=0.4, density=True)\n",
    "\n",
    "    plt.xlabel(f\"{label} ({unit})\")\n",
    "    plt.ylabel(\"Normalized density\")\n",
    "    plt.title(\"Climatic Differences Between Populations\")\n",
    "    plt.legend()\n",
    "    plt.tight_layout()\n",
    "    \n",
    "    outfile = join(plots, f'climate-distributions-{label}.png')\n",
    "    plt.savefig(outfile, dpi=300)\n",
    "    plt.close()"
   ]
  }
 ],
 "metadata": {
  "kernelspec": {
   "display_name": "Python 3 (ipykernel)",
   "language": "python",
   "name": "python3"
  },
  "language_info": {
   "codemirror_mode": {
    "name": "ipython",
    "version": 3
   },
   "file_extension": ".py",
   "mimetype": "text/x-python",
   "name": "python",
   "nbconvert_exporter": "python",
   "pygments_lexer": "ipython3",
   "version": "3.8.12"
  }
 },
 "nbformat": 4,
 "nbformat_minor": 5
}
